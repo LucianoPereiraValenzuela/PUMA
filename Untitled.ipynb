{
 "cells": [
  {
   "cell_type": "code",
   "execution_count": 33,
   "metadata": {},
   "outputs": [],
   "source": [
    "import numpy as np\n",
    "\n",
    "def conjugate_grad(A, b, x=None):\n",
    "    \"\"\"\n",
    "    Description\n",
    "    -----------\n",
    "    Solve a linear equation Ax = b with conjugate gradient method.\n",
    "    Parameters\n",
    "    ----------\n",
    "    A: 2d numpy.array of positive semi-definite (symmetric) matrix\n",
    "    b: 1d numpy.array\n",
    "    x: 1d numpy.array of initial point\n",
    "    Returns\n",
    "    -------\n",
    "    1d numpy.array x such that Ax = b\n",
    "    \"\"\"\n",
    "    n = len(b)\n",
    "    if not x:\n",
    "        x = np.ones(n)\n",
    "    r = np.dot(A, x) - b\n",
    "    p = - r\n",
    "    r_k_norm = np.dot(r, r)\n",
    "    for i in range(2*n):\n",
    "        Ap = np.dot(A, p)\n",
    "        alpha = r_k_norm / np.dot(p, Ap)\n",
    "        x += alpha * p\n",
    "        r += alpha * Ap\n",
    "        r_kplus1_norm = np.dot(r, r)\n",
    "        beta = r_kplus1_norm / r_k_norm\n",
    "        r_k_norm = r_kplus1_norm\n",
    "        if r_kplus1_norm < 1e-6:\n",
    "            print('Itr:', i)\n",
    "            break\n",
    "        p = beta * p - r\n",
    "    return x"
   ]
  },
  {
   "cell_type": "code",
   "execution_count": 34,
   "metadata": {},
   "outputs": [],
   "source": [
    "    n = 10\n",
    "    P = np.random.normal(size=[n, n])\n",
    "    A = np.dot(P.T, P)\n",
    "    b = np.ones(n)"
   ]
  },
  {
   "cell_type": "code",
   "execution_count": 35,
   "metadata": {},
   "outputs": [
    {
     "name": "stdout",
     "output_type": "stream",
     "text": [
      "Itr: 9\n"
     ]
    }
   ],
   "source": [
    "x = conjugate_grad(A,b)"
   ]
  },
  {
   "cell_type": "code",
   "execution_count": 36,
   "metadata": {},
   "outputs": [
    {
     "data": {
      "text/plain": [
       "array([-1.80654334,  0.91952926,  1.94045666,  1.62873647,  0.6185384 ,\n",
       "        1.33148283,  0.54077053,  0.98884054,  0.89418576, -0.7764986 ])"
      ]
     },
     "execution_count": 36,
     "metadata": {},
     "output_type": "execute_result"
    }
   ],
   "source": [
    "x"
   ]
  },
  {
   "cell_type": "code",
   "execution_count": 37,
   "metadata": {},
   "outputs": [
    {
     "data": {
      "text/plain": [
       "array([1., 1., 1., 1., 1., 1., 1., 1., 1., 1.])"
      ]
     },
     "execution_count": 37,
     "metadata": {},
     "output_type": "execute_result"
    }
   ],
   "source": [
    "A@x"
   ]
  },
  {
   "cell_type": "code",
   "execution_count": 38,
   "metadata": {},
   "outputs": [
    {
     "data": {
      "text/plain": [
       "array([1., 1., 1., 1., 1., 1., 1., 1., 1., 1.])"
      ]
     },
     "execution_count": 38,
     "metadata": {},
     "output_type": "execute_result"
    }
   ],
   "source": [
    "b"
   ]
  },
  {
   "cell_type": "code",
   "execution_count": null,
   "metadata": {},
   "outputs": [],
   "source": []
  }
 ],
 "metadata": {
  "kernelspec": {
   "display_name": "Python 3",
   "language": "python",
   "name": "python3"
  },
  "language_info": {
   "codemirror_mode": {
    "name": "ipython",
    "version": 3
   },
   "file_extension": ".py",
   "mimetype": "text/x-python",
   "name": "python",
   "nbconvert_exporter": "python",
   "pygments_lexer": "ipython3",
   "version": "3.7.4"
  }
 },
 "nbformat": 4,
 "nbformat_minor": 4
}
