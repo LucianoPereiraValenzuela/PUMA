{
 "cells": [
  {
   "cell_type": "code",
   "execution_count": 2,
   "metadata": {
    "execution": {
     "iopub.execute_input": "2020-12-07T23:04:28.869718Z",
     "iopub.status.busy": "2020-12-07T23:04:28.869718Z",
     "iopub.status.idle": "2020-12-07T23:04:29.841094Z",
     "shell.execute_reply": "2020-12-07T23:04:29.841094Z",
     "shell.execute_reply.started": "2020-12-07T23:04:28.869718Z"
    }
   },
   "outputs": [],
   "source": [
    "import h5py as h5\n",
    "import numpy as np\n",
    "import matplotlib.pyplot as plt"
   ]
  },
  {
   "cell_type": "code",
   "execution_count": 4,
   "metadata": {
    "execution": {
     "iopub.execute_input": "2020-12-07T23:04:29.843057Z",
     "iopub.status.busy": "2020-12-07T23:04:29.843057Z",
     "iopub.status.idle": "2020-12-07T23:04:30.370194Z",
     "shell.execute_reply": "2020-12-07T23:04:30.369193Z",
     "shell.execute_reply.started": "2020-12-07T23:04:29.843057Z"
    }
   },
   "outputs": [],
   "source": [
    "lay=2;MC=500; DimN=8\n",
    "infi=np.zeros([MC,DimN,lay])\n",
    "for j in range(lay):\n",
    "    for i in range(DimN):\n",
    "        file=h5.File(\"data/DataStatesDim=\"+str(i+3)+\"Lay=\"+str(2+j)+\".h5\",\"r\")\n",
    "        infi[:,i,j]=file[\"infi\"][:,:].min(axis=0)\n",
    "        file.close()"
   ]
  },
  {
   "cell_type": "code",
   "execution_count": 5,
   "metadata": {
    "execution": {
     "iopub.execute_input": "2020-12-07T23:04:30.371953Z",
     "iopub.status.busy": "2020-12-07T23:04:30.370963Z",
     "iopub.status.idle": "2020-12-07T23:04:30.381867Z",
     "shell.execute_reply": "2020-12-07T23:04:30.380903Z",
     "shell.execute_reply.started": "2020-12-07T23:04:30.371953Z"
    },
    "scrolled": true
   },
   "outputs": [
    {
     "data": {
      "text/plain": [
       "array([[ 1.02823201e-01, -6.66133815e-16],\n",
       "       [ 5.88866119e-02,  1.11022302e-16],\n",
       "       [ 3.95899211e-02,  2.22044605e-16],\n",
       "       [ 4.02873870e-02, -8.88178420e-16],\n",
       "       [ 3.30554253e-02,  3.33066907e-16],\n",
       "       [ 2.06899330e-02,  8.88178420e-16],\n",
       "       [ 2.19959828e-02,  5.55111512e-16],\n",
       "       [ 1.61089647e-02,  1.11022302e-15]])"
      ]
     },
     "execution_count": 5,
     "metadata": {},
     "output_type": "execute_result"
    }
   ],
   "source": [
    "infi.max(axis=0)"
   ]
  },
  {
   "cell_type": "code",
   "execution_count": 6,
   "metadata": {
    "execution": {
     "iopub.execute_input": "2020-12-07T23:04:30.383862Z",
     "iopub.status.busy": "2020-12-07T23:04:30.382864Z",
     "iopub.status.idle": "2020-12-07T23:04:30.390844Z",
     "shell.execute_reply": "2020-12-07T23:04:30.389858Z",
     "shell.execute_reply.started": "2020-12-07T23:04:30.382864Z"
    }
   },
   "outputs": [],
   "source": [
    "l=np.where(infi[:,1,0]>1e-8)[0]"
   ]
  },
  {
   "cell_type": "code",
   "execution_count": 7,
   "metadata": {
    "execution": {
     "iopub.execute_input": "2020-12-07T23:04:30.546432Z",
     "iopub.status.busy": "2020-12-07T23:04:30.545434Z",
     "iopub.status.idle": "2020-12-07T23:04:30.562401Z",
     "shell.execute_reply": "2020-12-07T23:04:30.562401Z",
     "shell.execute_reply.started": "2020-12-07T23:04:30.545434Z"
    }
   },
   "outputs": [],
   "source": [
    "file=h5.File(\"HaarStates.h5\",\"r\")"
   ]
  },
  {
   "cell_type": "code",
   "execution_count": 8,
   "metadata": {
    "execution": {
     "iopub.execute_input": "2020-12-07T23:04:31.045630Z",
     "iopub.status.busy": "2020-12-07T23:04:31.045630Z",
     "iopub.status.idle": "2020-12-07T23:04:31.101349Z",
     "shell.execute_reply": "2020-12-07T23:04:31.100337Z",
     "shell.execute_reply.started": "2020-12-07T23:04:31.045630Z"
    }
   },
   "outputs": [],
   "source": [
    "sta=file[\"statesdim=4\"][:,:]"
   ]
  },
  {
   "cell_type": "code",
   "execution_count": 9,
   "metadata": {
    "execution": {
     "iopub.execute_input": "2020-12-07T23:04:31.561227Z",
     "iopub.status.busy": "2020-12-07T23:04:31.561227Z",
     "iopub.status.idle": "2020-12-07T23:04:31.568190Z",
     "shell.execute_reply": "2020-12-07T23:04:31.567192Z",
     "shell.execute_reply.started": "2020-12-07T23:04:31.561227Z"
    }
   },
   "outputs": [
    {
     "data": {
      "text/plain": [
       "array([ 0.28528969-0.15189627j, -0.05830743-0.14131731j,\n",
       "        0.52097961-0.34493126j, -0.69123911-0.06291375j])"
      ]
     },
     "execution_count": 9,
     "metadata": {},
     "output_type": "execute_result"
    }
   ],
   "source": [
    "sta[l[0],:]"
   ]
  },
  {
   "cell_type": "code",
   "execution_count": 10,
   "metadata": {
    "execution": {
     "iopub.execute_input": "2020-12-07T23:04:31.893177Z",
     "iopub.status.busy": "2020-12-07T23:04:31.892179Z",
     "iopub.status.idle": "2020-12-07T23:04:31.901155Z",
     "shell.execute_reply": "2020-12-07T23:04:31.900158Z",
     "shell.execute_reply.started": "2020-12-07T23:04:31.893177Z"
    }
   },
   "outputs": [
    {
     "data": {
      "text/plain": [
       "array([[1.e-16, 1.e-16],\n",
       "       [1.e-16, 1.e-16],\n",
       "       [1.e-16, 1.e-16],\n",
       "       [1.e-16, 1.e-16],\n",
       "       [1.e-16, 1.e-16],\n",
       "       [1.e-16, 1.e-16],\n",
       "       [1.e-16, 1.e-16],\n",
       "       [1.e-16, 1.e-16]])"
      ]
     },
     "execution_count": 10,
     "metadata": {},
     "output_type": "execute_result"
    }
   ],
   "source": [
    "x=infi.min(axis=0)\n",
    "y=infi.max(axis=0)\n",
    "\n",
    "infi=infi-x+1e-16\n",
    "\n",
    "x=infi.min(axis=0)\n",
    "y=infi.max(axis=0)\n",
    "x"
   ]
  },
  {
   "cell_type": "code",
   "execution_count": 11,
   "metadata": {
    "execution": {
     "iopub.execute_input": "2020-12-07T23:04:33.650950Z",
     "iopub.status.busy": "2020-12-07T23:04:33.649952Z",
     "iopub.status.idle": "2020-12-07T23:04:34.818582Z",
     "shell.execute_reply": "2020-12-07T23:04:34.817585Z",
     "shell.execute_reply.started": "2020-12-07T23:04:33.649952Z"
    }
   },
   "outputs": [
    {
     "name": "stderr",
     "output_type": "stream",
     "text": [
      "C:\\Users\\rojas\\AppData\\Local\\Temp\\ipykernel_32376\\566750490.py:14: MatplotlibDeprecationWarning: hatch must consist of a string of \"*+-./OX\\ox|\" or None, but found the following invalid values \" \". Passing invalid values is deprecated since 3.4 and will become an error in 3.7.\n",
      "  axs[i].hist(infi[:,i,j],bins=logbins[i],hatch=hatches[j],histtype=\"step\",\n"
     ]
    },
    {
     "data": {
      "text/plain": [
       "<Figure size 2000x1000 with 0 Axes>"
      ]
     },
     "metadata": {},
     "output_type": "display_data"
    }
   ],
   "source": [
    "plt.matplotlib.rc(\"xtick\",labelsize=14)\n",
    "plt.matplotlib.rc(\"ytick\",labelsize=14)\n",
    "\n",
    "\n",
    "bins=30\n",
    "fig,ax=plt.subplots(nrows=2,ncols=4,figsize=(20,10))\n",
    "logbins=[np.logspace(np.log10(x[i,:].min()),np.log10(y[i,:].max()),bins) for i in range(DimN)]\n",
    "colors=[\"yellowgreen\", \"darkred\", \"deepskyblue\", \"gold\", \"steelblue\", \"palegreen\",\"navy\",\"darkgray\"]\n",
    "labels=[\"2 layers\",\"3 layers\"]\n",
    "hatches=[\" /\",\"\\ \"]\n",
    "axs=ax.flatten()\n",
    "for i in range(DimN):\n",
    "    for j in range(lay):\n",
    "        axs[i].hist(infi[:,i,j],bins=logbins[i],hatch=hatches[j],histtype=\"step\",\n",
    "                        facecolor=colors[2-j],edgecolor=\"k\",fill=True,label=labels[j])\n",
    "    axs[i].legend(handleheight=1.5,prop={\"size\":13})#prop={'size': 7})\n",
    "    axs[i].set_xscale(\"log\")\n",
    "    axs[i].set_title(\"d=\"+str(i+3),size=16)\n",
    "\n",
    "fig.tight_layout()\n",
    "fig.savefig(\"histdata.pdf\")\n",
    "fig.clf()"
   ]
  },
  {
   "cell_type": "code",
   "execution_count": 12,
   "metadata": {},
   "outputs": [
    {
     "data": {
      "text/plain": [
       "<Figure size 2000x1000 with 0 Axes>"
      ]
     },
     "metadata": {},
     "output_type": "display_data"
    }
   ],
   "source": [
    "bins=30\n",
    "fig,ax=plt.subplots(nrows=2,ncols=4,figsize=(20,10))\n",
    "logbins=[np.logspace(np.log10(x[i,1]),np.log10(y[i,1]),bins) for i in range(DimN)]\n",
    "colors=[\"yellowgreen\", \"darkred\", \"deepskyblue\", \"gold\", \"steelblue\", \"palegreen\",\"navy\",\"darkgray\"]\n",
    "labels=[\"2 layers\",\"3 layers\"]\n",
    "hatches=[\" /\",\"\\ \"]\n",
    "\n",
    "axs=ax.flatten()\n",
    "for i in range(DimN):\n",
    "    axs[i].hist(infi[:,i,1],bins=logbins[i],color=colors[i])    \n",
    "    axs[i].set_xscale(\"log\")\n",
    "    axs[i].set_title(\"d=\"+str(i+3),size=16)\n",
    "    \n",
    "fig.tight_layout()\n",
    "fig.savefig(\"his3lay.pdf\")\n",
    "fig.clf()"
   ]
  },
  {
   "cell_type": "code",
   "execution_count": 29,
   "metadata": {},
   "outputs": [
    {
     "data": {
      "text/plain": [
       "array([  1.31904371e-02,   1.00000000e-16,   1.47530617e-02,\n",
       "         1.34422692e-02,   6.73521104e-07,   7.66133815e-16,\n",
       "         5.44089210e-16,   1.22857277e-02,   8.18182183e-03,\n",
       "         7.66133815e-16,   5.44089210e-16,   3.73870418e-04,\n",
       "         5.44089210e-16,   5.44089210e-16,   5.44089210e-16,\n",
       "         3.22044605e-16,   3.22044605e-16,   7.66133815e-16,\n",
       "         5.44089210e-16,   5.44089210e-16,   5.44089210e-16,\n",
       "         5.44089210e-16,   7.66133815e-16,   5.44089210e-16,\n",
       "         5.44089210e-16,   6.85688056e-02,   3.22044605e-16,\n",
       "         5.44089210e-16,   2.76789785e-03,   1.80171755e-02,\n",
       "         7.66133815e-16,   2.68233646e-02,   7.66133815e-16,\n",
       "         7.66133815e-16,   5.44089210e-16,   7.66133815e-16,\n",
       "         7.66133815e-16,   8.84494147e-03,   5.44089210e-16,\n",
       "         5.44089210e-16,   5.44089210e-16,   5.44089210e-16,\n",
       "         7.66133815e-16,   3.22044605e-16,   5.44089210e-16,\n",
       "         7.66133815e-16,   1.10595924e-02,   5.44089210e-16,\n",
       "         5.44089210e-16,   2.21240464e-02])"
      ]
     },
     "execution_count": 29,
     "metadata": {},
     "output_type": "execute_result"
    }
   ],
   "source": [
    "infi[:,0]"
   ]
  },
  {
   "cell_type": "code",
   "execution_count": null,
   "metadata": {},
   "outputs": [],
   "source": []
  }
 ],
 "metadata": {
  "kernelspec": {
   "display_name": "Python 3 (ipykernel)",
   "language": "python",
   "name": "python3"
  },
  "language_info": {
   "codemirror_mode": {
    "name": "ipython",
    "version": 3
   },
   "file_extension": ".py",
   "mimetype": "text/x-python",
   "name": "python",
   "nbconvert_exporter": "python",
   "pygments_lexer": "ipython3",
   "version": "3.9.13"
  }
 },
 "nbformat": 4,
 "nbformat_minor": 4
}
