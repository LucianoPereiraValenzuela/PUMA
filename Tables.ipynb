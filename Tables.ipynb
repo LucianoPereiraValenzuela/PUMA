{
 "cells": [
  {
   "cell_type": "code",
   "execution_count": 26,
   "metadata": {},
   "outputs": [],
   "source": [
    "import h5py as h5\n",
    "import numpy as np\n",
    "import scipy\n",
    "from tabulate import tabulate\n",
    "np.set_printoptions(linewidth=200)"
   ]
  },
  {
   "cell_type": "code",
   "execution_count": 150,
   "metadata": {},
   "outputs": [
    {
     "name": "stdout",
     "output_type": "stream",
     "text": [
      "\\begin{tabular}{llll}\n",
      "\\hline\n",
      " $d$   & $I_d$                 & $I_{d+1}$             & $I_{d+2}$             \\\\\n",
      "\\hline\n",
      " $3$   & $4.13\\times 10^{-02}$ & $1.65\\times 10^{-15}$ & $1.65\\times 10^{-15}$ \\\\\n",
      " $4$   & $1.90\\times 10^{-02}$ & $1.54\\times 10^{-15}$ & $1.43\\times 10^{-15}$ \\\\\n",
      " $5$   & $3.43\\times 10^{-15}$ & $1.88\\times 10^{-15}$ & $1.77\\times 10^{-15}$ \\\\\n",
      " $6$   & $1.69\\times 10^{-14}$ & $3.21\\times 10^{-15}$ & $1.88\\times 10^{-15}$ \\\\\n",
      " $7$   & $3.14\\times 10^{-14}$ & $6.55\\times 10^{-15}$ & $4.44\\times 10^{-15}$ \\\\\n",
      " $8$   & $7.35\\times 10^{-14}$ & $1.25\\times 10^{-14}$ & $7.44\\times 10^{-15}$ \\\\\n",
      " $9$   & $1.36\\times 10^{-13}$ & $1.67\\times 10^{-14}$ & $9.55\\times 10^{-15}$ \\\\\n",
      " $10$  & $2.68\\times 10^{-13}$ & $3.06\\times 10^{-14}$ & $1.52\\times 10^{-14}$ \\\\\n",
      "\\hline\n",
      "\\end{tabular}\n"
     ]
    }
   ],
   "source": [
    "file = h5.File(\"DatosArtHaarSuma.h5\",\"r\")\n",
    "file.keys()\n",
    "data = file['MaxPerLayer'][:]\n",
    "data = data[:,[2,1,0]]\n",
    "A = np.zeros([8,4]); A = A.tolist()\n",
    "for j in range(3):\n",
    "    for k in range(8):\n",
    "        d = k+3 \n",
    "        A[k][0] = \"$%1d$\" % d\n",
    "        a = \"%1.2e\" % data[k,j]\n",
    "        A[k][j+1] = '$'+a[0:4]+'\\\\times 10^{'+a[5:8]+'}$'\n",
    "B = tabulate(A,  headers=[\"$d$\",\"$I_d$\",\"$I_{d+1}$\",\"$I_{d+2}$\"], tablefmt=\"latex_raw\", floatfmt=[\"1.0f\",\"1.2e\",\"1.2e\",\"1.2e\"],numalign=\"center\")\n",
    "print(B)"
   ]
  },
  {
   "cell_type": "code",
   "execution_count": 151,
   "metadata": {},
   "outputs": [
    {
     "name": "stdout",
     "output_type": "stream",
     "text": [
      "\\begin{tabular}{llll}\n",
      "\\hline\n",
      " $d$   & $I_d$                 & $I_{d+1}$             & $I_{d+2}$             \\\\\n",
      "\\hline\n",
      " $3$   & $4.98\\times 10^{-02}$ & $1.21\\times 10^{-15}$ & $1.21\\times 10^{-15}$ \\\\\n",
      " $4$   & $1.06\\times 10^{-01}$ & $1.43\\times 10^{-15}$ & $1.32\\times 10^{-15}$ \\\\\n",
      " $5$   & $3.53\\times 10^{-03}$ & $1.88\\times 10^{-15}$ & $1.65\\times 10^{-15}$ \\\\\n",
      " $6$   & $5.22\\times 10^{-05}$ & $3.43\\times 10^{-15}$ & $2.32\\times 10^{-15}$ \\\\\n",
      " $7$   & $2.24\\times 10^{-05}$ & $6.88\\times 10^{-15}$ & $4.66\\times 10^{-15}$ \\\\\n",
      " $8$   & $7.64\\times 10^{-06}$ & $1.29\\times 10^{-14}$ & $8.44\\times 10^{-15}$ \\\\\n",
      " $9$   & $7.43\\times 10^{-06}$ & $1.81\\times 10^{-14}$ & $9.77\\times 10^{-15}$ \\\\\n",
      " $10$  & $4.76\\times 10^{-06}$ & $2.71\\times 10^{-14}$ & $1.64\\times 10^{-14}$ \\\\\n",
      "\\hline\n",
      "\\end{tabular}\n"
     ]
    }
   ],
   "source": [
    "file = h5.File(\"DatosArtDiagSuma.h5\",\"r\")\n",
    "file.keys()\n",
    "data = file['MaxPerLayer'][:]\n",
    "A = np.zeros([8,4]); A = A.tolist()\n",
    "for j in range(3):\n",
    "    for k in range(8):\n",
    "        d = k+3 \n",
    "        A[k][0] = \"$%1d$\" % d\n",
    "        a = \"%1.2e\" % data[k,j]\n",
    "        A[k][j+1] = '$'+a[0:4]+'\\\\times 10^{'+a[5:8]+'}$'\n",
    "B = tabulate(A,  headers=[\"$d$\",\"$I_d$\",\"$I_{d+1}$\",\"$I_{d+2}$\"], tablefmt=\"latex_raw\", floatfmt=[\"1.0f\",\"1.2e\",\"1.2e\",\"1.2e\"],numalign=\"center\")\n",
    "print(B)"
   ]
  },
  {
   "cell_type": "code",
   "execution_count": 161,
   "metadata": {},
   "outputs": [
    {
     "name": "stdout",
     "output_type": "stream",
     "text": [
      "\\begin{tabular}{llll}\n",
      "\\hline\n",
      " $d$   & $I_d$                 & $I_{d+1}$             & $I_{d+2}$             \\\\\n",
      "\\hline\n",
      " $3$   & $3.81\\times 10^{-02}$ & $5.44\\times 10^{-16}$ & $7.66\\times 10^{-16}$ \\\\\n",
      " $4$   & $3.24\\times 10^{-03}$ & $9.88\\times 10^{-16}$ & $7.66\\times 10^{-16}$ \\\\\n",
      " $5$   & $6.00\\times 10^{-06}$ & $8.77\\times 10^{-16}$ & $6.55\\times 10^{-16}$ \\\\\n",
      " $6$   & $5.21\\times 10^{-07}$ & $1.21\\times 10^{-15}$ & $9.88\\times 10^{-16}$ \\\\\n",
      " $7$   & $2.37\\times 10^{-07}$ & $4.11\\times 10^{-15}$ & $3.00\\times 10^{-15}$ \\\\\n",
      " $8$   & $1.22\\times 10^{-07}$ & $7.22\\times 10^{-15}$ & $5.00\\times 10^{-15}$ \\\\\n",
      " $9$   & $6.42\\times 10^{-08}$ & $1.01\\times 10^{-14}$ & $6.00\\times 10^{-15}$ \\\\\n",
      " $10$  & $3.63\\times 10^{-08}$ & $1.64\\times 10^{-14}$ & $9.55\\times 10^{-15}$ \\\\\n",
      "\\hline\n",
      "\\end{tabular}\n"
     ]
    }
   ],
   "source": [
    "file = h5.File(\"MeanMedianHaar.h5\",\"r\")\n",
    "file.keys()\n",
    "data = file['MedianPerLayer'][:]\n",
    "A = np.zeros([8,4]); A = A.tolist()\n",
    "for j in range(3):\n",
    "    for k in range(8):\n",
    "        d = k+3 \n",
    "        A[k][0] = \"$%1d$\" % d\n",
    "        a = \"%1.2e\" % data[k,j]\n",
    "        A[k][j+1] = '$'+a[0:4]+'\\\\times 10^{'+a[5:8]+'}$'\n",
    "B = tabulate(A,  headers=[\"$d$\",\"$I_d$\",\"$I_{d+1}$\",\"$I_{d+2}$\"], tablefmt=\"latex_raw\", floatfmt=[\"1.0f\",\"1.2e\",\"1.2e\",\"1.2e\"],numalign=\"center\")\n",
    "print(B)"
   ]
  },
  {
   "cell_type": "code",
   "execution_count": 155,
   "metadata": {},
   "outputs": [
    {
     "name": "stdout",
     "output_type": "stream",
     "text": [
      "\\begin{tabular}{llll}\n",
      "\\hline\n",
      " $d$   & $I_d$                 & $I_{d+1}$             & $I_{d+2}$             \\\\\n",
      "\\hline\n",
      " $3$   & $3.43\\times 10^{-02}$ & $5.30\\times 10^{-16}$ & $7.06\\times 10^{-16}$ \\\\\n",
      " $4$   & $1.02\\times 10^{-02}$ & $8.71\\times 10^{-16}$ & $8.33\\times 10^{-16}$ \\\\\n",
      " $5$   & $5.20\\times 10^{-05}$ & $8.61\\times 10^{-16}$ & $6.60\\times 10^{-16}$ \\\\\n",
      " $6$   & $2.12\\times 10^{-06}$ & $1.30\\times 10^{-15}$ & $1.11\\times 10^{-15}$ \\\\\n",
      " $7$   & $9.86\\times 10^{-07}$ & $4.12\\times 10^{-15}$ & $3.00\\times 10^{-15}$ \\\\\n",
      " $8$   & $4.47\\times 10^{-07}$ & $7.31\\times 10^{-15}$ & $5.00\\times 10^{-15}$ \\\\\n",
      " $9$   & $2.58\\times 10^{-07}$ & $1.02\\times 10^{-14}$ & $5.97\\times 10^{-15}$ \\\\\n",
      " $10$  & $1.42\\times 10^{-07}$ & $1.66\\times 10^{-14}$ & $9.52\\times 10^{-15}$ \\\\\n",
      "\\hline\n",
      "\\end{tabular}\n"
     ]
    }
   ],
   "source": [
    "file = h5.File(\"MeanMedianHaar.h5\",\"r\")\n",
    "file.keys()\n",
    "data = file['MeanPerLayer'][:]\n",
    "A = np.zeros([8,4]); A = A.tolist()\n",
    "for j in range(3):\n",
    "    for k in range(8):\n",
    "        d = k+3 \n",
    "        A[k][0] = \"$%1d$\" % d\n",
    "        a = \"%1.2e\" % data[k,j]\n",
    "        A[k][j+1] = '$'+a[0:4]+'\\\\times 10^{'+a[5:8]+'}$'\n",
    "B = tabulate(A,  headers=[\"$d$\",\"$I_d$\",\"$I_{d+1}$\",\"$I_{d+2}$\"], tablefmt=\"latex_raw\", floatfmt=[\"1.0f\",\"1.2e\",\"1.2e\",\"1.2e\"],numalign=\"center\")\n",
    "print(B)"
   ]
  },
  {
   "cell_type": "code",
   "execution_count": 164,
   "metadata": {},
   "outputs": [
    {
     "name": "stdout",
     "output_type": "stream",
     "text": [
      "\\begin{tabular}{llll}\n",
      "\\hline\n",
      " $d$   & $I_d$                 & $I_{d+1}$             & $I_{d+2}$             \\\\\n",
      "\\hline\n",
      " $3$   & $5.44\\times 10^{-16}$ & $7.66\\times 10^{-16}$ & $7.66\\times 10^{-16}$ \\\\\n",
      " $4$   & $5.44\\times 10^{-16}$ & $5.44\\times 10^{-16}$ & $7.66\\times 10^{-16}$ \\\\\n",
      " $5$   & $1.32\\times 10^{-15}$ & $9.88\\times 10^{-16}$ & $1.10\\times 10^{-15}$ \\\\\n",
      " $6$   & $4.21\\times 10^{-15}$ & $1.21\\times 10^{-15}$ & $9.88\\times 10^{-16}$ \\\\\n",
      " $7$   & $8.10\\times 10^{-15}$ & $3.77\\times 10^{-15}$ & $2.89\\times 10^{-15}$ \\\\\n",
      " $8$   & $1.73\\times 10^{-14}$ & $6.66\\times 10^{-15}$ & $4.66\\times 10^{-15}$ \\\\\n",
      " $9$   & $3.60\\times 10^{-14}$ & $9.44\\times 10^{-15}$ & $5.55\\times 10^{-15}$ \\\\\n",
      " $10$  & $6.59\\times 10^{-14}$ & $1.52\\times 10^{-14}$ & $9.10\\times 10^{-15}$ \\\\\n",
      "\\hline\n",
      "\\end{tabular}\n"
     ]
    }
   ],
   "source": [
    "file = h5.File(\"MeanMedianDiag.h5\",\"r\")\n",
    "file.keys()\n",
    "data = file['MedianPerLayer'][:]\n",
    "data = data[:,[2,1,0]]\n",
    "A = np.zeros([8,4]); A = A.tolist()\n",
    "for j in range(3):\n",
    "    for k in range(8):\n",
    "        d = k+3 \n",
    "        A[k][0] = \"$%1d$\" % d\n",
    "        a = \"%1.2e\" % data[k,j]\n",
    "        A[k][j+1] = '$'+a[0:4]+'\\\\times 10^{'+a[5:8]+'}$'\n",
    "B = tabulate(A,  headers=[\"$d$\",\"$I_d$\",\"$I_{d+1}$\",\"$I_{d+2}$\"], tablefmt=\"latex_raw\", floatfmt=[\"1.0f\",\"1.2e\",\"1.2e\",\"1.2e\"],numalign=\"center\")\n",
    "print(B)"
   ]
  },
  {
   "cell_type": "code",
   "execution_count": 165,
   "metadata": {},
   "outputs": [
    {
     "name": "stdout",
     "output_type": "stream",
     "text": [
      "\\begin{tabular}{llll}\n",
      "\\hline\n",
      " $d$   & $I_d$                 & $I_{d+1}$             & $I_{d+2}$             \\\\\n",
      "\\hline\n",
      " $3$   & $7.30\\times 10^{-04}$ & $7.61\\times 10^{-16}$ & $7.14\\times 10^{-16}$ \\\\\n",
      " $4$   & $1.40\\times 10^{-04}$ & $6.30\\times 10^{-16}$ & $8.15\\times 10^{-16}$ \\\\\n",
      " $5$   & $1.42\\times 10^{-15}$ & $9.80\\times 10^{-16}$ & $1.07\\times 10^{-15}$ \\\\\n",
      " $6$   & $4.43\\times 10^{-15}$ & $1.31\\times 10^{-15}$ & $1.01\\times 10^{-15}$ \\\\\n",
      " $7$   & $8.87\\times 10^{-15}$ & $3.80\\times 10^{-15}$ & $2.87\\times 10^{-15}$ \\\\\n",
      " $8$   & $1.89\\times 10^{-14}$ & $6.74\\times 10^{-15}$ & $4.72\\times 10^{-15}$ \\\\\n",
      " $9$   & $3.92\\times 10^{-14}$ & $9.41\\times 10^{-15}$ & $5.63\\times 10^{-15}$ \\\\\n",
      " $10$  & $7.14\\times 10^{-14}$ & $1.53\\times 10^{-14}$ & $9.15\\times 10^{-15}$ \\\\\n",
      "\\hline\n",
      "\\end{tabular}\n"
     ]
    }
   ],
   "source": [
    "file = h5.File(\"MeanMedianDiag.h5\",\"r\")\n",
    "file.keys()\n",
    "data = file['MeanPerLayer'][:]\n",
    "data = data[:,[2,1,0]]\n",
    "A = np.zeros([8,4]); A = A.tolist()\n",
    "for j in range(3):\n",
    "    for k in range(8):\n",
    "        d = k+3 \n",
    "        A[k][0] = \"$%1d$\" % d\n",
    "        a = \"%1.2e\" % data[k,j]\n",
    "        A[k][j+1] = '$'+a[0:4]+'\\\\times 10^{'+a[5:8]+'}$'\n",
    "B = tabulate(A,  headers=[\"$d$\",\"$I_d$\",\"$I_{d+1}$\",\"$I_{d+2}$\"], tablefmt=\"latex_raw\", floatfmt=[\"1.0f\",\"1.2e\",\"1.2e\",\"1.2e\"],numalign=\"center\")\n",
    "print(B)"
   ]
  },
  {
   "cell_type": "code",
   "execution_count": null,
   "metadata": {},
   "outputs": [],
   "source": []
  }
 ],
 "metadata": {
  "kernelspec": {
   "display_name": "Python 3",
   "language": "python",
   "name": "python3"
  },
  "language_info": {
   "codemirror_mode": {
    "name": "ipython",
    "version": 3
   },
   "file_extension": ".py",
   "mimetype": "text/x-python",
   "name": "python",
   "nbconvert_exporter": "python",
   "pygments_lexer": "ipython3",
   "version": "3.7.4"
  }
 },
 "nbformat": 4,
 "nbformat_minor": 4
}
